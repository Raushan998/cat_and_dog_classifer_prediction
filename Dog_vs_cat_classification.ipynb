{
 "cells": [
  {
   "cell_type": "code",
   "execution_count": 15,
   "metadata": {},
   "outputs": [],
   "source": [
    "import os\n",
    "from os import listdir\n",
    "from os.path import join,isfile\n",
    "mypath='./datasets/images/'\n",
    "file_names=[]\n",
    "for f in listdir(mypath):\n",
    "    if isfile(join(mypath,f)):\n",
    "        file_names.append(f)"
   ]
  },
  {
   "cell_type": "code",
   "execution_count": 31,
   "metadata": {},
   "outputs": [],
   "source": [
    "import shutil\n",
    "training_images=[]\n",
    "training_labels=[]\n",
    "test_images=[]\n",
    "test_labels=[]\n",
    "dog_count=0\n",
    "cat_count=0\n",
    "train_dog_dir='./datasets/images/catvsdog/train/dogs/'\n",
    "train_cat_dir='./datasets/images/catvsdog/train/cats/'\n",
    "test_dog_dir='./datasets/images/catvsdog/test/dogs/'\n",
    "test_cat_dir='./datasets/images/catvsdog/test/cats/'\n",
    "def make_dir(directory):\n",
    "    if os.path.exists(directory):\n",
    "        shutil.rmtree(directory)\n",
    "    os.makedirs(directory)\n",
    "make_dir(train_dog_dir)\n",
    "make_dir(train_cat_dir)\n",
    "make_dir(test_dog_dir)\n",
    "make_dir(test_cat_dir)"
   ]
  },
  {
   "cell_type": "code",
   "execution_count": 34,
   "metadata": {},
   "outputs": [],
   "source": [
    "import cv2\n",
    "import numpy as np\n",
    "def count_zeros(number):\n",
    "    if(number<10):\n",
    "        return \"00\"\n",
    "    elif (number>=10 and number<100):\n",
    "        return \"0\"\n",
    "    else:\n",
    "        return \"\"\n",
    "for i,file in enumerate(file_names):\n",
    "    if (file_names[i][0]=='d'):\n",
    "        dog_count+=1\n",
    "        image=cv2.imread(mypath+file)\n",
    "        image=cv2.resize(image,(150,150),interpolation=cv2.INTER_CUBIC)\n",
    "        zeros=count_zeros(dog_count)\n",
    "        if(dog_count>1000 and dog_count<=1500):\n",
    "            test_labels.append(1)\n",
    "            test_images.append(image)\n",
    "            cv2.imwrite(test_dog_dir+\"dog\"+zeros+str(dog_count-1000)+\".jpg\",image)\n",
    "        elif dog_count<=1000:\n",
    "            training_labels.append(1)\n",
    "            training_images.append(image)\n",
    "            cv2.imwrite(train_dog_dir+\"dog\"+zeros+str(dog_count)+\".jpg\",image)\n",
    "    elif (file_names[i][0]=='c'):\n",
    "        cat_count+=1\n",
    "        image=cv2.imread(mypath+file)\n",
    "        image=cv2.resize(image,(150,150),interpolation=cv2.INTER_CUBIC)\n",
    "        zeros=count_zeros(cat_count)\n",
    "        if(cat_count>1000 and cat_count<=1500):\n",
    "            test_labels.append(0)\n",
    "            test_images.append(image)\n",
    "            cv2.imwrite(test_cat_dir+\"cat\"+zeros+str(cat_count-1000)+\".jpg\",image)\n",
    "        elif cat_count<=1000:\n",
    "            training_labels.append(0)\n",
    "            training_images.append(image)\n",
    "            cv2.imwrite(train_cat_dir+\"cat\"+zeros+str(cat_count)+\".jpg\",image)\n",
    "    if dog_count==1500 and cat_count==1500:\n",
    "        break"
   ]
  },
  {
   "cell_type": "code",
   "execution_count": 39,
   "metadata": {},
   "outputs": [
    {
     "name": "stdout",
     "output_type": "stream",
     "text": [
      "Found 1998 images belonging to 2 classes.\n",
      "Found 1000 images belonging to 2 classes.\n"
     ]
    }
   ],
   "source": [
    "from keras.models import Sequential\n",
    "from keras.layers import Activation,Dropout,Flatten,Dense\n",
    "from keras.preprocessing.image import ImageDataGenerator\n",
    "from keras.layers import Conv2D,MaxPooling2D,ZeroPadding2D\n",
    "from keras import optimizers\n",
    "import scipy\n",
    "import pylab as pl\n",
    "import matplotlib.cm as cm\n",
    "input_shape=(150,150,3)\n",
    "img_width=150\n",
    "img_height=150\n",
    "nb_train_samples=1998\n",
    "nb_test_samples=1000\n",
    "batch_size=16\n",
    "epochs=25\n",
    "train_data_dir='./datasets/images/catvsdog/train'\n",
    "test_data_dir='./datasets/images/catvsdog/test'\n",
    "validation_datagen=ImageDataGenerator(\n",
    "                   rescale=1./255)\n",
    "training_datagen=ImageDataGenerator(\n",
    "                  rescale=1./255,\n",
    "                  rotation_range=30,\n",
    "                  width_shift_range=0.3,\n",
    "                  height_shift_range=0.3,\n",
    "                  horizontal_flip=True,\n",
    "                  fill_mode=\"nearest\" )\n",
    "train_generator=training_datagen.flow_from_directory(\n",
    "                              train_data_dir,\n",
    "                              target_size=(img_width,img_height),\n",
    "                              batch_size=batch_size, \n",
    "                              class_mode='binary',\n",
    "                              shuffle=True)\n",
    "validation_generator=validation_datagen.flow_from_directory(\n",
    "                            test_data_dir,\n",
    "                            target_size=(img_width,img_height),\n",
    "                            batch_size=batch_size,\n",
    "                            class_mode='binary',\n",
    "                            shuffle=True)"
   ]
  },
  {
   "cell_type": "code",
   "execution_count": 40,
   "metadata": {},
   "outputs": [
    {
     "name": "stdout",
     "output_type": "stream",
     "text": [
      "_________________________________________________________________\n",
      "Layer (type)                 Output Shape              Param #   \n",
      "=================================================================\n",
      "conv2d_4 (Conv2D)            (None, 148, 148, 32)      896       \n",
      "_________________________________________________________________\n",
      "activation_6 (Activation)    (None, 148, 148, 32)      0         \n",
      "_________________________________________________________________\n",
      "max_pooling2d_4 (MaxPooling2 (None, 74, 74, 32)        0         \n",
      "_________________________________________________________________\n",
      "conv2d_5 (Conv2D)            (None, 72, 72, 32)        9248      \n",
      "_________________________________________________________________\n",
      "activation_7 (Activation)    (None, 72, 72, 32)        0         \n",
      "_________________________________________________________________\n",
      "max_pooling2d_5 (MaxPooling2 (None, 36, 36, 32)        0         \n",
      "_________________________________________________________________\n",
      "conv2d_6 (Conv2D)            (None, 34, 34, 64)        18496     \n",
      "_________________________________________________________________\n",
      "activation_8 (Activation)    (None, 34, 34, 64)        0         \n",
      "_________________________________________________________________\n",
      "max_pooling2d_6 (MaxPooling2 (None, 17, 17, 64)        0         \n",
      "_________________________________________________________________\n",
      "flatten_2 (Flatten)          (None, 18496)             0         \n",
      "_________________________________________________________________\n",
      "dense_3 (Dense)              (None, 64)                1183808   \n",
      "_________________________________________________________________\n",
      "activation_9 (Activation)    (None, 64)                0         \n",
      "_________________________________________________________________\n",
      "dropout_2 (Dropout)          (None, 64)                0         \n",
      "_________________________________________________________________\n",
      "dense_4 (Dense)              (None, 1)                 65        \n",
      "_________________________________________________________________\n",
      "activation_10 (Activation)   (None, 1)                 0         \n",
      "=================================================================\n",
      "Total params: 1,212,513\n",
      "Trainable params: 1,212,513\n",
      "Non-trainable params: 0\n",
      "_________________________________________________________________\n",
      "None\n"
     ]
    }
   ],
   "source": [
    "model=Sequential()\n",
    "model.add(Conv2D(32,(3,3),input_shape=input_shape))\n",
    "model.add(Activation('relu'))\n",
    "model.add(MaxPooling2D(pool_size=(2,2)))\n",
    "\n",
    "model.add(Conv2D(32,(3,3)))\n",
    "model.add(Activation('relu'))\n",
    "model.add(MaxPooling2D(pool_size=(2,2)))\n",
    "\n",
    "model.add(Conv2D(64,(3,3)))\n",
    "model.add(Activation('relu'))\n",
    "model.add(MaxPooling2D(pool_size=(2,2)))\n",
    "\n",
    "model.add(Flatten())\n",
    "model.add(Dense(64))\n",
    "model.add(Activation('relu'))\n",
    "model.add(Dropout(0.5))\n",
    "model.add(Dense(1))\n",
    "model.add(Activation('sigmoid'))\n",
    "print(model.summary())\n",
    "model.compile(loss='binary_crossentropy',\n",
    "             optimizer='rmsprop',\n",
    "             metrics=[\"accuracy\"])"
   ]
  },
  {
   "cell_type": "code",
   "execution_count": 44,
   "metadata": {
    "scrolled": true
   },
   "outputs": [
    {
     "name": "stdout",
     "output_type": "stream",
     "text": [
      "WARNING:tensorflow:From /home/raushan/.local/lib/python3.6/site-packages/keras/backend/tensorflow_backend.py:986: The name tf.assign_add is deprecated. Please use tf.compat.v1.assign_add instead.\n",
      "\n",
      "WARNING:tensorflow:From /home/raushan/.local/lib/python3.6/site-packages/keras/backend/tensorflow_backend.py:973: The name tf.assign is deprecated. Please use tf.compat.v1.assign instead.\n",
      "\n",
      "WARNING:tensorflow:From /home/raushan/.local/lib/python3.6/site-packages/keras/backend/tensorflow_backend.py:2741: The name tf.Session is deprecated. Please use tf.compat.v1.Session instead.\n",
      "\n",
      "Epoch 1/25\n",
      "WARNING:tensorflow:From /home/raushan/.local/lib/python3.6/site-packages/keras/backend/tensorflow_backend.py:174: The name tf.get_default_session is deprecated. Please use tf.compat.v1.get_default_session instead.\n",
      "\n",
      "WARNING:tensorflow:From /home/raushan/.local/lib/python3.6/site-packages/keras/backend/tensorflow_backend.py:181: The name tf.ConfigProto is deprecated. Please use tf.compat.v1.ConfigProto instead.\n",
      "\n",
      "WARNING:tensorflow:From /home/raushan/.local/lib/python3.6/site-packages/keras/backend/tensorflow_backend.py:190: The name tf.global_variables is deprecated. Please use tf.compat.v1.global_variables instead.\n",
      "\n",
      "WARNING:tensorflow:From /home/raushan/.local/lib/python3.6/site-packages/keras/backend/tensorflow_backend.py:199: The name tf.is_variable_initialized is deprecated. Please use tf.compat.v1.is_variable_initialized instead.\n",
      "\n",
      "WARNING:tensorflow:From /home/raushan/.local/lib/python3.6/site-packages/keras/backend/tensorflow_backend.py:206: The name tf.variables_initializer is deprecated. Please use tf.compat.v1.variables_initializer instead.\n",
      "\n",
      "124/124 [==============================] - 27s 218ms/step - loss: 0.7031 - acc: 0.5237 - val_loss: 0.6764 - val_acc: 0.5938\n",
      "Epoch 2/25\n",
      "124/124 [==============================] - 34s 271ms/step - loss: 0.6963 - acc: 0.5667 - val_loss: 0.6575 - val_acc: 0.5904\n",
      "Epoch 3/25\n",
      "124/124 [==============================] - 33s 269ms/step - loss: 0.6847 - acc: 0.5789 - val_loss: 0.6374 - val_acc: 0.6738\n",
      "Epoch 4/25\n",
      "124/124 [==============================] - 35s 281ms/step - loss: 0.6634 - acc: 0.5924 - val_loss: 0.6425 - val_acc: 0.6545\n",
      "Epoch 5/25\n",
      "124/124 [==============================] - 41s 334ms/step - loss: 0.6902 - acc: 0.6051 - val_loss: 0.6082 - val_acc: 0.6911\n",
      "Epoch 6/25\n",
      "124/124 [==============================] - 45s 363ms/step - loss: 0.6720 - acc: 0.6066 - val_loss: 0.6410 - val_acc: 0.6280\n",
      "Epoch 7/25\n",
      "124/124 [==============================] - 39s 316ms/step - loss: 0.6497 - acc: 0.6125 - val_loss: 0.6128 - val_acc: 0.6301\n",
      "Epoch 8/25\n",
      "124/124 [==============================] - 35s 283ms/step - loss: 0.6594 - acc: 0.6221 - val_loss: 0.5773 - val_acc: 0.6961\n",
      "Epoch 9/25\n",
      "124/124 [==============================] - 35s 283ms/step - loss: 0.6507 - acc: 0.6467 - val_loss: 0.8840 - val_acc: 0.5498\n",
      "Epoch 10/25\n",
      "124/124 [==============================] - 37s 296ms/step - loss: 0.6582 - acc: 0.6277 - val_loss: 0.6250 - val_acc: 0.6524\n",
      "Epoch 11/25\n",
      "124/124 [==============================] - 36s 292ms/step - loss: 0.6730 - acc: 0.6195 - val_loss: 0.6131 - val_acc: 0.6626\n",
      "Epoch 12/25\n",
      "124/124 [==============================] - 36s 288ms/step - loss: 0.6609 - acc: 0.6202 - val_loss: 0.6140 - val_acc: 0.6524\n",
      "Epoch 13/25\n",
      "124/124 [==============================] - 35s 283ms/step - loss: 0.6595 - acc: 0.6285 - val_loss: 0.6099 - val_acc: 0.6789\n",
      "Epoch 14/25\n",
      "124/124 [==============================] - 36s 292ms/step - loss: 0.6571 - acc: 0.6210 - val_loss: 0.5682 - val_acc: 0.6992\n",
      "Epoch 15/25\n",
      "124/124 [==============================] - 36s 290ms/step - loss: 0.6550 - acc: 0.6434 - val_loss: 0.6505 - val_acc: 0.6870\n",
      "Epoch 16/25\n",
      "124/124 [==============================] - 36s 288ms/step - loss: 0.6667 - acc: 0.6272 - val_loss: 0.6528 - val_acc: 0.6657\n",
      "Epoch 17/25\n",
      "124/124 [==============================] - 35s 286ms/step - loss: 0.6486 - acc: 0.6262 - val_loss: 0.5861 - val_acc: 0.7144\n",
      "Epoch 18/25\n",
      "124/124 [==============================] - 35s 285ms/step - loss: 0.6504 - acc: 0.6424 - val_loss: 0.5850 - val_acc: 0.7256\n",
      "Epoch 19/25\n",
      "124/124 [==============================] - 35s 285ms/step - loss: 0.6653 - acc: 0.6323 - val_loss: 0.6134 - val_acc: 0.7134\n",
      "Epoch 20/25\n",
      "124/124 [==============================] - 35s 286ms/step - loss: 0.6391 - acc: 0.6596 - val_loss: 0.5784 - val_acc: 0.6961\n",
      "Epoch 21/25\n",
      "124/124 [==============================] - 35s 285ms/step - loss: 0.6519 - acc: 0.6508 - val_loss: 0.5869 - val_acc: 0.7185\n",
      "Epoch 22/25\n",
      "124/124 [==============================] - 35s 282ms/step - loss: 0.6276 - acc: 0.6452 - val_loss: 0.9995 - val_acc: 0.5589\n",
      "Epoch 23/25\n",
      "124/124 [==============================] - 35s 284ms/step - loss: 0.6569 - acc: 0.6295 - val_loss: 0.5810 - val_acc: 0.7246\n",
      "Epoch 24/25\n",
      "124/124 [==============================] - 35s 286ms/step - loss: 0.6513 - acc: 0.6478 - val_loss: 0.7084 - val_acc: 0.6189\n",
      "Epoch 25/25\n",
      "124/124 [==============================] - 35s 284ms/step - loss: 0.6583 - acc: 0.6386 - val_loss: 0.6032 - val_acc: 0.6717\n"
     ]
    }
   ],
   "source": [
    "history = model.fit_generator(\n",
    "    train_generator,\n",
    "    steps_per_epoch = nb_train_samples // batch_size,\n",
    "    epochs = 25,\n",
    "    validation_data = validation_generator,\n",
    "    validation_steps = nb_test_samples // batch_size)"
   ]
  },
  {
   "cell_type": "code",
   "execution_count": 45,
   "metadata": {},
   "outputs": [
    {
     "data": {
      "image/png": "[encoded data removed]",
      "text/plain": [
       "<Figure size 432x288 with 1 Axes>"
      ]
     },
     "metadata": {
      "needs_background": "light"
     },
     "output_type": "display_data"
    }
   ],
   "source": [
    "import matplotlib.pyplot as plt\n",
    "history_dict=history.history\n",
    "loss_values=history_dict['loss']\n",
    "val_loss_values=history_dict['val_loss']\n",
    "epochs=range(1,len(loss_values)+1)\n",
    "plt.plot(epochs,loss_values,linewidth=2.0,marker=\"+\",label=\"validation/Test loss\",markersize=10.0)\n",
    "plt.plot(epochs,val_loss_values,linewidth=2.0,marker=\"*\",label=\"Training Loss\",markersize=10.0)\n",
    "plt.xlabel(\"Epochs\")\n",
    "plt.ylabel(\"loss\")\n",
    "plt.grid(True)\n",
    "plt.legend()\n",
    "plt.show()"
   ]
  },
  {
   "cell_type": "code",
   "execution_count": 48,
   "metadata": {},
   "outputs": [
    {
     "data": {
      "image/png": "[encoded data removed]",
      "text/plain": [
       "<Figure size 432x288 with 1 Axes>"
      ]
     },
     "metadata": {
      "needs_background": "light"
     },
     "output_type": "display_data"
    }
   ],
   "source": [
    "accuracy=history_dict[\"acc\"]\n",
    "val_acc=history_dict['val_acc']\n",
    "epochs=range(1,len(val_acc)+1)\n",
    "plt.plot(epochs,accuracy,linewidth=2.0,marker=\"+\",label=\"Training_accuracy\",markersize=10.0)\n",
    "plt.plot(epochs,val_acc,linewidth=2.0,marker=\"*\",label=\"validation/Test accuracy\",markersize=10.0)\n",
    "plt.xlabel(\"epochs\")\n",
    "plt.ylabel(\"accuracy\")\n",
    "plt.grid(True)\n",
    "plt.legend()\n",
    "plt.show()"
   ]
  },
  {
   "cell_type": "code",
   "execution_count": 49,
   "metadata": {},
   "outputs": [],
   "source": [
    "model.save(\"catvsdog.h5\")"
   ]
  },
  {
   "cell_type": "code",
   "execution_count": 53,
   "metadata": {},
   "outputs": [
    {
     "name": "stdout",
     "output_type": "stream",
     "text": [
      "(1998, 150, 150, 3)\n",
      "(1998, 1)\n",
      "(1000, 150, 150, 3)\n",
      "(1000, 1)\n"
     ]
    }
   ],
   "source": [
    "# Using numpy's savez function to store our loaded data as NPZ files\n",
    "np.savez('cats_vs_dogs_training_data.npz', np.array(training_images))\n",
    "np.savez('cats_vs_dogs_training_labels.npz', np.array(training_labels))\n",
    "np.savez('cats_vs_dogs_test_data.npz', np.array(test_images))\n",
    "np.savez('cats_vs_dogs_test_labels.npz', np.array(test_labels))\n",
    "# Loader Function\n",
    "import numpy as np\n",
    "\n",
    "def load_data_training_and_test(datasetname):\n",
    "    \n",
    "    npzfile = np.load(datasetname + \"_training_data.npz\")\n",
    "    train = npzfile['arr_0']\n",
    "    \n",
    "    npzfile = np.load(datasetname + \"_training_labels.npz\")\n",
    "    train_labels = npzfile['arr_0']\n",
    "    \n",
    "    npzfile = np.load(datasetname + \"_test_data.npz\")\n",
    "    test = npzfile['arr_0']\n",
    "    \n",
    "    npzfile = np.load(datasetname + \"_test_labels.npz\")\n",
    "    test_labels = npzfile['arr_0']\n",
    "\n",
    "    return (train, train_labels), (test, test_labels)\n",
    "(x_train, y_train), (x_test, y_test) = load_data_training_and_test(\"cats_vs_dogs\")\n",
    "\n",
    "# Reshaping our label data from (2000,) to (2000,1) and test data from (1000,) to (1000,1)\n",
    "y_train = y_train.reshape(y_train.shape[0], 1)\n",
    "y_test = y_test.reshape(y_test.shape[0], 1)\n",
    "\n",
    "# Change our image type to float32 data type\n",
    "x_train = x_train.astype('float32')\n",
    "x_test = x_test.astype('float32')\n",
    "\n",
    "# Normalize our data by changing the range from (0 to 255) to (0 to 1)\n",
    "x_train /= 255\n",
    "x_test /= 255\n",
    "\n",
    "print(x_train.shape)\n",
    "print(y_train.shape)\n",
    "print(x_test.shape)\n",
    "print(y_test.shape)"
   ]
  },
  {
   "cell_type": "code",
   "execution_count": 54,
   "metadata": {},
   "outputs": [],
   "source": [
    "import cv2\n",
    "import numpy as np\n",
    "from keras.models import load_model\n",
    "\n",
    "classifier = load_model('catvsdog.h5')\n",
    "\n",
    "def draw_test(name, pred, input_im):\n",
    "    BLACK = [0,0,0]\n",
    "    if pred == \"[0]\":\n",
    "        pred = \"cat\"\n",
    "    if pred == \"[1]\":\n",
    "        pred = \"dog\"\n",
    "    expanded_image = cv2.copyMakeBorder(input_im, 0, 0, 0, imageL.shape[0] ,cv2.BORDER_CONSTANT,value=BLACK)\n",
    "    #expanded_image = cv2.cvtColor(expanded_image, cv2.COLOR_GRAY2BGR)\n",
    "    cv2.putText(expanded_image, str(pred), (252, 70) ,cv2.FONT_HERSHEY_COMPLEX_SMALL,4, (0,255,0), 2)\n",
    "    cv2.imshow(name, expanded_image)\n",
    "\n",
    "\n",
    "for i in range(0,10):\n",
    "    rand = np.random.randint(0,len(x_test))\n",
    "    input_im = x_test[rand]\n",
    "\n",
    "    imageL = cv2.resize(input_im, None, fx=2, fy=2, interpolation = cv2.INTER_CUBIC)\n",
    "    cv2.imshow(\"Test Image\", imageL)\n",
    "\n",
    "    input_im = input_im.reshape(1,150,150,3) \n",
    "    \n",
    "    ## Get Prediction\n",
    "    res = str(classifier.predict_classes(input_im, 1, verbose = 0)[0])\n",
    "\n",
    "    draw_test(\"Prediction\", res, imageL) \n",
    "    cv2.waitKey(0)\n",
    "\n",
    "cv2.destroyAllWindows()"
   ]
  },
  {
   "cell_type": "code",
   "execution_count": null,
   "metadata": {},
   "outputs": [],
   "source": []
  }
 ],
 "metadata": {
  "kernelspec": {
   "display_name": "Python 3",
   "language": "python",
   "name": "python3"
  },
  "language_info": {
   "codemirror_mode": {
    "name": "ipython",
    "version": 3
   },
   "file_extension": ".py",
   "mimetype": "text/x-python",
   "name": "python",
   "nbconvert_exporter": "python",
   "pygments_lexer": "ipython3",
   "version": "3.6.9"
  }
 },
 "nbformat": 4,
 "nbformat_minor": 2
}
